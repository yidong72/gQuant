{
 "cells": [
  {
   "cell_type": "code",
   "execution_count": 1,
   "metadata": {},
   "outputs": [],
   "source": [
    "import streamz"
   ]
  },
  {
   "cell_type": "code",
   "execution_count": 2,
   "metadata": {},
   "outputs": [],
   "source": [
    "from gquant.dataframe_flow import Node\n",
    "from gquant.dataframe_flow import NodePorts, PortsSpecSchema, TaskSpecSchema\n",
    "from gquant.dataframe_flow import ConfSchema\n",
    "from gquant.dataframe_flow import TaskGraph\n",
    "from gquant.dataframe_flow.util import get_encoded_class"
   ]
  },
  {
   "cell_type": "code",
   "execution_count": 3,
   "metadata": {},
   "outputs": [],
   "source": [
    "class StreamNode(Node):\n",
    "\n",
    "    def ports_setup(self):\n",
    "        input_ports = {}\n",
    "        output_ports = {\n",
    "            'stream_out': {\n",
    "                PortsSpecSchema.port_type: streamz.Stream\n",
    "            },\n",
    "        }\n",
    "        return NodePorts(inports=input_ports, outports=output_ports)\n",
    "\n",
    "    def conf_schema(self):\n",
    "        json = {\n",
    "            \"title\": \"Source node configure\",\n",
    "            \"type\": \"object\",\n",
    "            \"properties\": {\n",
    "            }\n",
    "        }\n",
    "        ui = {}\n",
    "        return ConfSchema(json=json, ui=ui)\n",
    "\n",
    "    def init(self):\n",
    "        self.required = {}\n",
    "\n",
    "    def columns_setup(self):\n",
    "        columns_out = {\n",
    "            'stream_out': {'element': 'number'\n",
    "            },\n",
    "        }\n",
    "        return columns_out\n",
    "\n",
    "    def process(self, inputs):\n",
    "        output = {}\n",
    "        output.update({'stream_out': streamz.Stream()})\n",
    "        return output\n"
   ]
  },
  {
   "cell_type": "code",
   "execution_count": 4,
   "metadata": {},
   "outputs": [],
   "source": [
    "class TransformNode(Node):\n",
    "\n",
    "    def ports_setup(self):\n",
    "        input_ports = {\n",
    "             'stream_in': {\n",
    "                PortsSpecSchema.port_type: streamz.Stream\n",
    "            },           \n",
    "        }\n",
    "        output_ports = {\n",
    "            'stream_out': {\n",
    "                PortsSpecSchema.port_type: streamz.Stream\n",
    "            },\n",
    "        }\n",
    "        return NodePorts(inports=input_ports, outports=output_ports)\n",
    "\n",
    "    def conf_schema(self):\n",
    "        json = {\n",
    "            \"title\": \"Transform Node configure\",\n",
    "            \"type\": \"object\",\n",
    "            \"properties\": {\n",
    "            }\n",
    "        }\n",
    "        ui = {}\n",
    "        return ConfSchema(json=json, ui=ui)\n",
    "\n",
    "    def init(self):\n",
    "        self.required = {}\n",
    "\n",
    "    def columns_setup(self):\n",
    "        self.required = {\n",
    "            'stream_in': {'element': 'number'}\n",
    "        }\n",
    "        columns_out = {\n",
    "            'stream_out': {'element': 'number'\n",
    "            },\n",
    "        }\n",
    "        return columns_out\n",
    "\n",
    "    def process(self, inputs):\n",
    "        in_stream = inputs['stream_in']\n",
    "        output = {}\n",
    "        def double(ele):\n",
    "            return ele*2\n",
    "        output.update({'stream_out': in_stream.map(double)})\n",
    "        return output\n"
   ]
  },
  {
   "cell_type": "code",
   "execution_count": 5,
   "metadata": {},
   "outputs": [],
   "source": [
    "class SinkNode(Node):\n",
    "\n",
    "    def ports_setup(self):\n",
    "        input_ports = {\n",
    "             'stream_in': {\n",
    "                PortsSpecSchema.port_type: streamz.Stream\n",
    "            },           \n",
    "        }\n",
    "        output_ports = {\n",
    "            'stream_out': {\n",
    "                PortsSpecSchema.port_type: streamz.Stream\n",
    "            },\n",
    "        }\n",
    "        return NodePorts(inports=input_ports, outports=output_ports)\n",
    "\n",
    "    def conf_schema(self):\n",
    "        json = {\n",
    "            \"title\": \"Simple SinkNode configure\",\n",
    "            \"type\": \"object\",\n",
    "            \"properties\": {\n",
    "            }\n",
    "        }\n",
    "        ui = {}\n",
    "        return ConfSchema(json=json, ui=ui)\n",
    "\n",
    "    def init(self):\n",
    "        self.required = {}\n",
    "\n",
    "    def columns_setup(self):\n",
    "        self.required = {\n",
    "            'stream_in': {'element': 'number'}\n",
    "        }\n",
    "        columns_out = {\n",
    "            'stream_out': {'element': 'number'\n",
    "            },\n",
    "        }\n",
    "        return columns_out\n",
    "\n",
    "    def process(self, inputs):\n",
    "        in_stream = inputs['stream_in']\n",
    "        output = {}\n",
    "        output.update({'stream_out': in_stream.sink(print)})\n",
    "        return output"
   ]
  },
  {
   "cell_type": "code",
   "execution_count": 13,
   "metadata": {},
   "outputs": [],
   "source": [
    "module_name = 'streamz'\n",
    "source_spec = {\n",
    "    TaskSpecSchema.task_id: 'source',\n",
    "    TaskSpecSchema.node_type: StreamNode,\n",
    "    TaskSpecSchema.conf: {},\n",
    "    TaskSpecSchema.inputs: {},\n",
    "    TaskSpecSchema.module: module_name\n",
    "}\n",
    "\n",
    "\n",
    "task_spec = {\n",
    "    TaskSpecSchema.task_id: 'double',\n",
    "    TaskSpecSchema.node_type: TransformNode,\n",
    "    TaskSpecSchema.conf: {},\n",
    "    TaskSpecSchema.inputs: {\n",
    "        'stream_in': 'source.stream_out'\n",
    "    },\n",
    "    TaskSpecSchema.module: module_name\n",
    "}\n",
    "\n",
    "sink_spec = {\n",
    "    TaskSpecSchema.task_id: 'sink',\n",
    "    TaskSpecSchema.node_type: SinkNode,\n",
    "    TaskSpecSchema.conf: {},\n",
    "    TaskSpecSchema.inputs: {\n",
    "        'stream_in': 'double.stream_out'\n",
    "    },\n",
    "    TaskSpecSchema.module: module_name\n",
    "}\n",
    "\n",
    "out_spec = {\n",
    "    TaskSpecSchema.task_id: '',\n",
    "    TaskSpecSchema.node_type: \"Output_Collector\",\n",
    "    TaskSpecSchema.conf: {},\n",
    "    TaskSpecSchema.inputs: {\n",
    "        'in0': 'sink.stream_out',\n",
    "        'in1': 'source.stream_out'\n",
    "    }\n",
    "}\n",
    "\n",
    "task_list = [source_spec, task_spec, sink_spec, out_spec]"
   ]
  },
  {
   "cell_type": "code",
   "execution_count": 14,
   "metadata": {},
   "outputs": [
    {
     "data": {
      "application/vnd.jupyter.widget-view+json": {
       "model_id": "25180ad8abca494194d6090cc69521e4",
       "version_major": 2,
       "version_minor": 0
      },
      "text/plain": [
       "GQuantWidget(sub=HBox())"
      ]
     },
     "metadata": {},
     "output_type": "display_data"
    }
   ],
   "source": [
    "taskgraph = TaskGraph()\n",
    "taskgraph.draw()"
   ]
  },
  {
   "cell_type": "code",
   "execution_count": 15,
   "metadata": {},
   "outputs": [
    {
     "data": {
      "application/vnd.jupyter.widget-view+json": {
       "model_id": "4dd8fb1d02854f80b91514adaf8d5adb",
       "version_major": 2,
       "version_minor": 0
      },
      "text/plain": [
       "GQuantWidget(sub=HBox(), value=[OrderedDict([('id', 'source'), ('type', 'StreamNode'), ('conf', {}), ('inputs'…"
      ]
     },
     "metadata": {},
     "output_type": "display_data"
    }
   ],
   "source": [
    "taskgraph.register_node(module_name, get_encoded_class(StreamNode))\n",
    "taskgraph.register_node(module_name, get_encoded_class(TransformNode))\n",
    "taskgraph.register_node(module_name, get_encoded_class(SinkNode))\n",
    "task_graph = TaskGraph(task_list)\n",
    "task_graph.draw()"
   ]
  },
  {
   "cell_type": "code",
   "execution_count": 16,
   "metadata": {},
   "outputs": [],
   "source": [
    "r = task_graph.run()"
   ]
  },
  {
   "cell_type": "code",
   "execution_count": 17,
   "metadata": {},
   "outputs": [
    {
     "data": {
      "text/plain": [
       "('sink.stream_out', 'source.stream_out')"
      ]
     },
     "execution_count": 17,
     "metadata": {},
     "output_type": "execute_result"
    }
   ],
   "source": [
    "r.get_keys()"
   ]
  },
  {
   "cell_type": "code",
   "execution_count": 18,
   "metadata": {},
   "outputs": [
    {
     "name": "stdout",
     "output_type": "stream",
     "text": [
      "16\n"
     ]
    }
   ],
   "source": [
    "r['source.stream_out'].emit(8)"
   ]
  },
  {
   "cell_type": "code",
   "execution_count": 19,
   "metadata": {},
   "outputs": [],
   "source": [
    "import bqplot\n",
    "import numpy as np\n",
    "import bqplot.pyplot as plt\n",
    "\n",
    "class PlotSinkNode(Node):\n",
    "\n",
    "    def ports_setup(self):\n",
    "        input_ports = {\n",
    "             'stream_in': {\n",
    "                PortsSpecSchema.port_type: streamz.Stream\n",
    "            },           \n",
    "        }\n",
    "        output_ports = {\n",
    "            'fig_out': {\n",
    "                PortsSpecSchema.port_type: bqplot.Figure\n",
    "            },\n",
    "        }\n",
    "        return NodePorts(inports=input_ports, outports=output_ports)\n",
    "\n",
    "    def conf_schema(self):\n",
    "        json = {\n",
    "            \"title\": \"Plot configure\",\n",
    "            \"type\": \"object\",\n",
    "            \"properties\": {\n",
    "            }\n",
    "        }\n",
    "        ui = {}\n",
    "        return ConfSchema(json=json, ui=ui)\n",
    "\n",
    "    def init(self):\n",
    "        self.required = {}\n",
    "\n",
    "    def columns_setup(self):\n",
    "        self.required = {\n",
    "            'stream_in': {'element': 'number'}\n",
    "        }\n",
    "        columns_out = {\n",
    "            'fig_out': {}\n",
    "        }\n",
    "        return columns_out\n",
    "\n",
    "    def process(self, inputs):\n",
    "        in_stream = inputs['stream_in']\n",
    "        axes_options = {'x': {'label': 'x'}, 'y': {'label': 'y'}}\n",
    "        x = []\n",
    "        y = []\n",
    "        fig = plt.figure(animation_duration=10)\n",
    "        lines = plt.plot(x=x, y=y, colors=['red', 'green'], axes_options=axes_options)\n",
    "        output = {}\n",
    "        def update(numbers):\n",
    "            if isinstance(numbers[0], tuple):\n",
    "                elements  = len(numbers[0])\n",
    "            else:\n",
    "                elements = len(numbers)\n",
    "            x = np.arange(elements)\n",
    "            y = np.array(numbers)\n",
    "            lines.x = x\n",
    "            lines.y = y\n",
    "        in_stream.sink(update)\n",
    "        output.update({'fig_out': fig})\n",
    "        return output"
   ]
  },
  {
   "cell_type": "code",
   "execution_count": 20,
   "metadata": {},
   "outputs": [],
   "source": [
    "class SlideWindowNode(Node):\n",
    "\n",
    "    def ports_setup(self):\n",
    "        input_ports = {\n",
    "             'stream_in': {\n",
    "                PortsSpecSchema.port_type: streamz.Stream\n",
    "            },           \n",
    "        }\n",
    "        output_ports = {\n",
    "            'stream_out': {\n",
    "                PortsSpecSchema.port_type: streamz.Stream\n",
    "            },\n",
    "        }\n",
    "        return NodePorts(inports=input_ports, outports=output_ports)\n",
    "\n",
    "    def conf_schema(self):\n",
    "        json = {\n",
    "            \"title\": \"SlideWindow Node configure\",\n",
    "            \"type\": \"object\",\n",
    "            \"properties\": {\n",
    "                \"window\": {\n",
    "                    \"type\": \"integer\"\n",
    "                }\n",
    "            }\n",
    "        }\n",
    "        ui = {}\n",
    "        return ConfSchema(json=json, ui=ui)\n",
    "\n",
    "    def init(self):\n",
    "        self.required = {}\n",
    "\n",
    "    def columns_setup(self):\n",
    "        self.required = {\n",
    "            'stream_in': {'element': 'number'}\n",
    "        }\n",
    "        columns_out = {\n",
    "            'stream_out': {'element': 'number'\n",
    "            },\n",
    "        }\n",
    "        return columns_out\n",
    "\n",
    "    def process(self, inputs):\n",
    "        in_stream = inputs['stream_in']\n",
    "        output = {}\n",
    "        output.update({'stream_out': in_stream.sliding_window(self.conf['window'], return_partial=False)})\n",
    "        return output"
   ]
  },
  {
   "cell_type": "code",
   "execution_count": 21,
   "metadata": {},
   "outputs": [],
   "source": [
    "taskgraph.register_node(module_name, get_encoded_class(PlotSinkNode))\n",
    "taskgraph.register_node(module_name, get_encoded_class(SlideWindowNode))"
   ]
  },
  {
   "cell_type": "code",
   "execution_count": 22,
   "metadata": {},
   "outputs": [
    {
     "data": {
      "application/vnd.jupyter.widget-view+json": {
       "model_id": "f097b2dbfc94435ea9e1d863b45d2643",
       "version_major": 2,
       "version_minor": 0
      },
      "text/plain": [
       "GQuantWidget(sub=HBox(), value=[OrderedDict([('id', 'source'), ('type', 'StreamNode'), ('conf', {}), ('inputs'…"
      ]
     },
     "metadata": {},
     "output_type": "display_data"
    }
   ],
   "source": [
    "task_graph = TaskGraph.load_taskgraph('../taskgraphs/streamz/plot.gq.yaml')\n",
    "task_graph.draw()"
   ]
  },
  {
   "cell_type": "code",
   "execution_count": 23,
   "metadata": {},
   "outputs": [],
   "source": [
    "r = task_graph.run()"
   ]
  },
  {
   "cell_type": "code",
   "execution_count": 24,
   "metadata": {},
   "outputs": [
    {
     "data": {
      "text/plain": [
       "('plot.fig_out', 'source.stream_out')"
      ]
     },
     "execution_count": 24,
     "metadata": {},
     "output_type": "execute_result"
    }
   ],
   "source": [
    "r.get_keys()"
   ]
  },
  {
   "cell_type": "code",
   "execution_count": 25,
   "metadata": {},
   "outputs": [
    {
     "data": {
      "application/vnd.jupyter.widget-view+json": {
       "model_id": "994106699d44460ea920f376bdfc6230",
       "version_major": 2,
       "version_minor": 0
      },
      "text/plain": [
       "Figure(animation_duration=10, axes=[Axis(label='x', scale=LinearScale(), side='bottom'), Axis(label='y', orien…"
      ]
     },
     "metadata": {},
     "output_type": "display_data"
    }
   ],
   "source": [
    "r['plot.fig_out']"
   ]
  },
  {
   "cell_type": "code",
   "execution_count": 26,
   "metadata": {},
   "outputs": [],
   "source": [
    "for i in range(1000):\n",
    "    r['source.stream_out'].emit(np.sin(i/3.14))"
   ]
  },
  {
   "cell_type": "code",
   "execution_count": 27,
   "metadata": {},
   "outputs": [],
   "source": [
    "class ZipNode(Node):\n",
    "\n",
    "    def ports_setup(self):\n",
    "        input_ports = {\n",
    "             'stream1_in': {\n",
    "                PortsSpecSchema.port_type: streamz.Stream\n",
    "            }, \n",
    "             'stream2_in': {\n",
    "                PortsSpecSchema.port_type: streamz.Stream\n",
    "            },       \n",
    "        }\n",
    "        output_ports = {\n",
    "            'stream_out': {\n",
    "                PortsSpecSchema.port_type: streamz.Stream\n",
    "            },\n",
    "        }\n",
    "        return NodePorts(inports=input_ports, outports=output_ports)\n",
    "\n",
    "    def conf_schema(self):\n",
    "        json = {\n",
    "            \"title\": \"Zip Node configure\",\n",
    "            \"type\": \"object\",\n",
    "            \"properties\": {\n",
    "            }\n",
    "        }\n",
    "        ui = {}\n",
    "        return ConfSchema(json=json, ui=ui)\n",
    "\n",
    "    def init(self):\n",
    "        self.required = {}\n",
    "\n",
    "    def columns_setup(self):\n",
    "        self.required = {\n",
    "            'stream1_in': {'element': 'number'},\n",
    "            'stream2_in': {'element': 'number'}\n",
    "        }\n",
    "        columns_out = {\n",
    "            'stream_out': {'element': 'number'\n",
    "            },\n",
    "        }\n",
    "        return columns_out\n",
    "\n",
    "    def process(self, inputs):\n",
    "        in_stream1 = inputs['stream1_in']\n",
    "        in_stream2 = inputs['stream2_in']\n",
    "        output = {}\n",
    "        output.update({'stream_out': in_stream1.zip(in_stream2)})\n",
    "        return output"
   ]
  },
  {
   "cell_type": "code",
   "execution_count": 28,
   "metadata": {},
   "outputs": [],
   "source": [
    "taskgraph.register_node(module_name, get_encoded_class(ZipNode))"
   ]
  },
  {
   "cell_type": "code",
   "execution_count": 29,
   "metadata": {},
   "outputs": [
    {
     "data": {
      "application/vnd.jupyter.widget-view+json": {
       "model_id": "f4a549b19a12401dacf41b9eebf8cb6e",
       "version_major": 2,
       "version_minor": 0
      },
      "text/plain": [
       "GQuantWidget(sub=HBox(), value=[OrderedDict([('id', 'source'), ('type', 'StreamNode'), ('conf', {}), ('inputs'…"
      ]
     },
     "metadata": {},
     "output_type": "display_data"
    }
   ],
   "source": [
    "task_graph = TaskGraph.load_taskgraph('../taskgraphs/streamz/two_branches.gq.yaml')\n",
    "task_graph.draw()"
   ]
  },
  {
   "cell_type": "code",
   "execution_count": 30,
   "metadata": {},
   "outputs": [],
   "source": [
    "r = task_graph.run()"
   ]
  },
  {
   "cell_type": "code",
   "execution_count": 31,
   "metadata": {},
   "outputs": [
    {
     "data": {
      "text/plain": [
       "('source.stream_out', 'plot.fig_out')"
      ]
     },
     "execution_count": 31,
     "metadata": {},
     "output_type": "execute_result"
    }
   ],
   "source": [
    "r.get_keys()"
   ]
  },
  {
   "cell_type": "code",
   "execution_count": 32,
   "metadata": {},
   "outputs": [
    {
     "data": {
      "application/vnd.jupyter.widget-view+json": {
       "model_id": "cc4a812dd2204d5eb72768e4dbc37d03",
       "version_major": 2,
       "version_minor": 0
      },
      "text/plain": [
       "Figure(animation_duration=10, axes=[Axis(label='x', scale=LinearScale(), side='bottom'), Axis(label='y', orien…"
      ]
     },
     "metadata": {},
     "output_type": "display_data"
    }
   ],
   "source": [
    "r['plot.fig_out']"
   ]
  },
  {
   "cell_type": "code",
   "execution_count": 33,
   "metadata": {},
   "outputs": [],
   "source": [
    "for i in range(1000):\n",
    "    r['source.stream_out'].emit(np.sin(i/3.14))"
   ]
  },
  {
   "cell_type": "code",
   "execution_count": null,
   "metadata": {},
   "outputs": [],
   "source": []
  },
  {
   "cell_type": "code",
   "execution_count": null,
   "metadata": {},
   "outputs": [],
   "source": []
  }
 ],
 "metadata": {
  "kernelspec": {
   "display_name": "Python 3",
   "language": "python",
   "name": "python3"
  },
  "language_info": {
   "codemirror_mode": {
    "name": "ipython",
    "version": 3
   },
   "file_extension": ".py",
   "mimetype": "text/x-python",
   "name": "python",
   "nbconvert_exporter": "python",
   "pygments_lexer": "ipython3",
   "version": "3.7.7"
  }
 },
 "nbformat": 4,
 "nbformat_minor": 4
}
