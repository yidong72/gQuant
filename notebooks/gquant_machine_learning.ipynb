{
 "cells": [
  {
   "cell_type": "markdown",
   "metadata": {},
   "source": [
    "## Prepare the dataset\n",
    "\n",
    "### Create a data generator node\n",
    "<img src=\"images/xgboost/create_node.gif\" align=\"center\">\n",
    "\n",
    "### Explore and visualize the data\n",
    "<img src=\"images/xgboost/visualize_data.gif\" align=\"center\">\n",
    "\n",
    "### Add categorical variable\n",
    "<img src=\"images/xgboost/categorical_variable.gif\" align=\"center\">\n",
    "\n",
    "### Save the graph and create a composite node\n",
    "<img src=\"images/xgboost/create_composite_node.gif\" align=\"center\">"
   ]
  },
  {
   "cell_type": "markdown",
   "metadata": {},
   "source": [
    "## Preprocess the data\n",
    "\n",
    "### Split the dataset into train and test\n",
    "<img src=\"images/xgboost/split_the_dataset.gif\" align=\"center\">\n",
    "\n",
    "### Normalize the features\n",
    "<img src=\"images/xgboost/normalize.gif\" align=\"center\">\n",
    "\n",
    "### Linear embedding\n",
    "<img src=\"images/xgboost/linear_projection.gif\" align=\"center\">\n",
    "\n",
    "### gQuant evaluates a subgraph, no wasted computation\n",
    "<img src=\"images/xgboost/sub_graph_evaluation.gif\" align=\"center\">\n"
   ]
  },
  {
   "cell_type": "markdown",
   "metadata": {},
   "source": [
    "## Machine Learning\n",
    "### Train a XGBoost Model and run inference\n",
    "<img src=\"images/xgboost/train_and_infer.gif\" align=\"center\">\n",
    "\n",
    "### visualize the training result feature importance\n",
    "\n",
    "### Model deployment\n"
   ]
  },
  {
   "cell_type": "markdown",
   "metadata": {},
   "source": [
    "## Real life example\n",
    "\n",
    "### Create a composite node for the machine learning graph\n",
    "### Make a customized node out of the composite node\n",
    "### Use the stock data "
   ]
  }
 ],
 "metadata": {
  "kernelspec": {
   "display_name": "Python 3",
   "language": "python",
   "name": "python3"
  },
  "language_info": {
   "codemirror_mode": {
    "name": "ipython",
    "version": 3
   },
   "file_extension": ".py",
   "mimetype": "text/x-python",
   "name": "python",
   "nbconvert_exporter": "python",
   "pygments_lexer": "ipython3",
   "version": "3.7.7"
  }
 },
 "nbformat": 4,
 "nbformat_minor": 4
}
