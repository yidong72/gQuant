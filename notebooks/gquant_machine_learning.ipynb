{
 "cells": [
  {
   "cell_type": "markdown",
   "metadata": {},
   "source": [
    "# GQuant tutorial: build a XGBoost model to predict the next day stock return in 30 minutes.\n",
    "\n",
    "In this tutorial, we will learn step by step how to use gQuant user interface and build a simple XGBoost model from scratch to predict positive or negative next day stock return.\n",
    "\n",
    "Let's import the necessary gQuant libary. "
   ]
  },
  {
   "cell_type": "code",
   "execution_count": 2,
   "metadata": {},
   "outputs": [],
   "source": [
    "import sys; sys.path.insert(0, '..')\n",
    "from gquant.dataframe_flow import TaskGraph"
   ]
  },
  {
   "cell_type": "markdown",
   "metadata": {},
   "source": [
    "## Prepare the dataset\n",
    "\n",
    "### Add a data generator node\n",
    "In this step, we add gQuant TaskGraph nodes, make connections and evaluate the graph\n",
    "<img src=\"images/xgboost/create_node.gif\" align=\"center\">\n",
    "\n",
    "### Explore and visualize the data\n",
    "In this step, we change the data generator configuration and visualize the result.\n",
    "<img src=\"images/xgboost/visualize_data.gif\" align=\"center\">\n",
    "\n",
    "### Add categorical variable\n",
    "To simulate categorical variables, we convert two of the continuous variables into categorical variables and encode them with one-hot encoding.\n",
    "<img src=\"images/xgboost/categorical_variable.gif\" align=\"center\">\n",
    "\n",
    "After this step, you should have a TaskGraph looks like this:"
   ]
  },
  {
   "cell_type": "code",
   "execution_count": 3,
   "metadata": {},
   "outputs": [
    {
     "data": {
      "application/vnd.jupyter.widget-view+json": {
       "model_id": "cbe5b09f7005464ebe36e97f102c1b74",
       "version_major": 2,
       "version_minor": 0
      },
      "text/plain": [
       "GQuantWidget(sub=HBox(), value=[OrderedDict([('id', 'data_gen'), ('type', 'ClassificationData'), ('conf', {'n_…"
      ]
     },
     "metadata": {},
     "output_type": "display_data"
    }
   ],
   "source": [
    "task_graph = TaskGraph.load_taskgraph('../taskgraphs/xgboost_example/data_generator.gq.yaml')\n",
    "task_graph.draw()"
   ]
  },
  {
   "cell_type": "markdown",
   "metadata": {},
   "source": [
    "### Save the graph and create a composite node\n",
    "We encapsulate the dataset create steps into a single composite node\n",
    "<img src=\"images/xgboost/create_composite_node.gif\" align=\"center\">"
   ]
  },
  {
   "cell_type": "markdown",
   "metadata": {},
   "source": [
    "## Preprocess the data\n",
    "\n",
    "### Split the dataset into train and test\n",
    "We split the dataset randomly into train and test so we can test the performance of the learned XGBoost model later.\n",
    "<img src=\"images/xgboost/split_the_dataset.gif\" align=\"center\">\n",
    "\n",
    "### Normalize the features\n",
    "Though it is not needed for XGBoost model, normalizing the features can be useful for other machine learning models. Think of this step as a placeholder for some preprocessing steps that are needed to clean up the dataset.\n",
    "<img src=\"images/xgboost/normalize.gif\" align=\"center\">\n",
    "\n",
    "After this step, you should have a TaskGraph looks like this:"
   ]
  },
  {
   "cell_type": "code",
   "execution_count": 6,
   "metadata": {},
   "outputs": [
    {
     "data": {
      "application/vnd.jupyter.widget-view+json": {
       "model_id": "2a82e1b281fd4eceaeddb551a9156e48",
       "version_major": 2,
       "version_minor": 0
      },
      "text/plain": [
       "GQuantWidget(sub=HBox(), value=[OrderedDict([('id', ''), ('type', 'Output Collector'), ('conf', {}), ('inputs'…"
      ]
     },
     "metadata": {},
     "output_type": "display_data"
    }
   ],
   "source": [
    "task_graph = TaskGraph.load_taskgraph('../taskgraphs/xgboost_example/ml_preprocess.gq.yaml')\n",
    "task_graph.draw()"
   ]
  },
  {
   "cell_type": "markdown",
   "metadata": {},
   "source": [
    "## Machine Learning\n",
    "### Train an XGBoost Model and run inference\n",
    "In this step, we feed the prepared dataset to train an XGBoost model. The output model object is used to run inference for both train and test dataset.\n",
    "<img src=\"images/xgboost/train_and_infer.gif\" align=\"center\">\n",
    "\n",
    "\n",
    "### gQuant evaluates a subgraph, no wasted computation\n",
    "In this step, we show by switching to a dask_cudf output port, the graph can run in a distributed environment automatically. The graph only does computations on the nodes that are necessary for the results. \n",
    "<img src=\"images/xgboost/dask_and_sub_graph.gif\" align=\"center\">\n",
    "\n",
    "\n",
    "After this step, you should have a TaskGraph looks like this:"
   ]
  },
  {
   "cell_type": "code",
   "execution_count": 7,
   "metadata": {},
   "outputs": [
    {
     "data": {
      "application/vnd.jupyter.widget-view+json": {
       "model_id": "3eb4dbb5280d4fb79884a549ecc1fd84",
       "version_major": 2,
       "version_minor": 0
      },
      "text/plain": [
       "GQuantWidget(sub=HBox(), value=[OrderedDict([('id', 'data_gen'), ('type', 'ClassificationData'), ('conf', {'n_…"
      ]
     },
     "metadata": {},
     "output_type": "display_data"
    }
   ],
   "source": [
    "task_graph = TaskGraph.load_taskgraph('../taskgraphs/xgboost_example/xgboost_model.gq.yaml')\n",
    "task_graph.draw()"
   ]
  },
  {
   "cell_type": "markdown",
   "metadata": {},
   "source": [
    "### Visualize the training result\n",
    "gQuant provide analysis nodes to evaluate the XGBoost model. In this step, will check the ROC curve and feature importances\n",
    "<img src=\"images/xgboost/xgboost_metrics.gif\" align=\"center\">\n",
    "\n",
    "\n",
    "After this step, you should have a TaskGraph looks like this:"
   ]
  },
  {
   "cell_type": "code",
   "execution_count": 8,
   "metadata": {},
   "outputs": [
    {
     "data": {
      "application/vnd.jupyter.widget-view+json": {
       "model_id": "04c95b741b464b61bcf2a77e81a0c5c8",
       "version_major": 2,
       "version_minor": 0
      },
      "text/plain": [
       "GQuantWidget(sub=HBox(), value=[OrderedDict([('id', 'data_gen'), ('type', 'ClassificationData'), ('conf', {'n_…"
      ]
     },
     "metadata": {},
     "output_type": "display_data"
    }
   ],
   "source": [
    "task_graph = TaskGraph.load_taskgraph('../taskgraphs/xgboost_example/metrics.gq.yaml')\n",
    "task_graph.draw()"
   ]
  },
  {
   "cell_type": "markdown",
   "metadata": {},
   "source": [
    "### Forest inference for deployment\n",
    "Forest inference library provides a great performance boost for XGBoost model inference as shown in this [blog](https://medium.com/rapids-ai/rapids-forest-inference-library-prediction-at-100-million-rows-per-second-19558890bc35). In this step, we export the XGBoost model to use a forest inference library. \n",
    "<img src=\"images/xgboost/forest_inference.gif\" align=\"center\">\n",
    "\n",
    "### Distributed inference\n",
    "We can run inference in a distributed environment. Usually, we have a lot of data to process in production.\n",
    "<img src=\"images/xgboost/distributed_inference.gif\" align=\"center\">\n",
    "\n",
    "After this step, you should have a TaskGraph looks like this:"
   ]
  },
  {
   "cell_type": "code",
   "execution_count": 9,
   "metadata": {},
   "outputs": [
    {
     "data": {
      "application/vnd.jupyter.widget-view+json": {
       "model_id": "2585dcbc24984c82918411e8b58f933b",
       "version_major": 2,
       "version_minor": 0
      },
      "text/plain": [
       "GQuantWidget(sub=HBox(), value=[OrderedDict([('id', 'data_gen'), ('type', 'ClassificationData'), ('conf', {'n_…"
      ]
     },
     "metadata": {},
     "output_type": "display_data"
    }
   ],
   "source": [
    "task_graph = TaskGraph.load_taskgraph('../taskgraphs/xgboost_example/tree_inference.gq.yaml')\n",
    "task_graph.draw()"
   ]
  },
  {
   "cell_type": "markdown",
   "metadata": {},
   "source": [
    "### Create a custom node\n",
    "Since we have a nice XGBoost model composite node, let's convert it to a normal gQuant node for future use without writing any Python code. How cool is that!\n",
    "<img src=\"images/xgboost/custom_node.gif\" align=\"center\">"
   ]
  },
  {
   "cell_type": "markdown",
   "metadata": {},
   "source": [
    "## Real life example\n",
    "\n",
    "We have been working on the fake data for predicting some binary classes. Let's change the dataset to something meaningful.\n",
    "\n",
    "### Get the stock data\n",
    "We prepare a dataset that calculates the features using technical indicators. We convert the next day return into a binary label indicating positive or negative returns.\n",
    "We re-use the TaskGraph from previous [06_xgboost_trade](https://github.com/rapidsai/gQuant/blob/master/notebooks/06_xgboost_trade.ipynb) notebook. \n",
    "<img src=\"images/xgboost/prepare_stock_data.gif\" align=\"center\">\n",
    "\n",
    "After this step, you should have a TaskGraph looks like this:\n"
   ]
  },
  {
   "cell_type": "code",
   "execution_count": 10,
   "metadata": {},
   "outputs": [
    {
     "data": {
      "application/vnd.jupyter.widget-view+json": {
       "model_id": "e600daa14a2a4665966a45c5f0e39059",
       "version_major": 2,
       "version_minor": 0
      },
      "text/plain": [
       "GQuantWidget(sub=HBox(), value=[OrderedDict([('id', 'stock_data'), ('type', 'CsvStockLoader'), ('conf', {'file…"
      ]
     },
     "metadata": {},
     "output_type": "display_data"
    }
   ],
   "source": [
    "task_graph = TaskGraph.load_taskgraph('../taskgraphs/xgboost_example/stock_data.gq.yaml')\n",
    "task_graph.draw()"
   ]
  },
  {
   "cell_type": "markdown",
   "metadata": {},
   "source": [
    "### Run the XGBoost model on the stock data\n",
    "This is the last step! We add our custom XGBoost node created before. We can now train and make predictions for our stock dataset easily. As you can see, the ROC value is not bad at all!\n",
    "<img src=\"images/xgboost/xgboost_stock_data.gif\" align=\"center\">\n",
    "\n",
    "After this step, you should have a TaskGraph looks like this:\n",
    "\n",
    "Note, you need to create the custom node as shown before to see this graph."
   ]
  },
  {
   "cell_type": "code",
   "execution_count": 11,
   "metadata": {},
   "outputs": [
    {
     "data": {
      "application/vnd.jupyter.widget-view+json": {
       "model_id": "bc5431fa8bc142458a77aff5e9d2e652",
       "version_major": 2,
       "version_minor": 0
      },
      "text/plain": [
       "GQuantWidget(sub=HBox(), value=[OrderedDict([('id', 'stock_data'), ('type', 'CsvStockLoader'), ('conf', {'file…"
      ]
     },
     "metadata": {},
     "output_type": "display_data"
    }
   ],
   "source": [
    "task_graph = TaskGraph.load_taskgraph('../taskgraphs/xgboost_example/xgboost_stock.gq.yaml')\n",
    "task_graph.draw()"
   ]
  },
  {
   "cell_type": "code",
   "execution_count": null,
   "metadata": {},
   "outputs": [],
   "source": []
  }
 ],
 "metadata": {
  "kernelspec": {
   "display_name": "Python 3",
   "language": "python",
   "name": "python3"
  },
  "language_info": {
   "codemirror_mode": {
    "name": "ipython",
    "version": 3
   },
   "file_extension": ".py",
   "mimetype": "text/x-python",
   "name": "python",
   "nbconvert_exporter": "python",
   "pygments_lexer": "ipython3",
   "version": "3.7.7"
  }
 },
 "nbformat": 4,
 "nbformat_minor": 4
}
