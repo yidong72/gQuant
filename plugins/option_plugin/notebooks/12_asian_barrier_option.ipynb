{
 "cells": [
  {
   "cell_type": "markdown",
   "metadata": {},
   "source": [
    "## Monte Carlo Option Pricing and Deep Learning model in gQuant\n",
    "\n",
    "\n",
    "The Black–Scholes model can efficiently be used for pricing “plain vanilla” options with the European exercise rule. Options like the Barrier option and Basket option have a complicated structure with no simple analytical solution. The Monte Carlo simulation is an effective way to price them. Traditionally, Monte Carlo pricing is done in the C/C++ CUDA code.  In this [developer blog](https://developer.nvidia.com/blog/accelerating-python-for-exotic-option-pricing/), I explored how to use Python GPU libraries to achieve the state-of-the-art performance in the domain of exotic option pricing.   \n",
    "\n",
    "Recently, Huge and Savine introduced a novel regularization for training fast, accurate pricing in a [paper](https://arxiv.org/pdf/2005.02347.pdf). Inspired by this method, in this notebook we are going to:\n",
    "     \n",
    "    1. Implement the differential regularization for the example Asian Barrier option\n",
    "    2. Show how we do HPC (Monte Carlo simulation) and deep learning in gQuant way. \n",
    "    \n",
    "Without loss of generality, we use the Asian Barrier Option as an example. The Asian Barrier Option is a mixture of the Asian Option and the Barrier Option. The derivative price depends on the average of underlying Asset Price S, the Strike Price K, and the Barrier Price B.  Use the Down-and-Out Call Discretized Asian Barrier Option as an example. \n",
    "\n",
    "    The option is void if the average price of the underlying asset goes below the barrier. \n",
    "    The asset Spot Price S is usually modeled as Geometric Brownian motion, which has three free parameters: Spot Price, Percent Volatility, and Percent Drift. \n",
    "    The price of the option is the expected profit at the maturity discount to the current value. \n",
    "    The path-dependent nature of the option makes an analytic solution of the option price impossible. \n",
    "\n",
    "This is a good sample option for pricing using the Monte Carlo simulation. \n",
    "\n",
    "As a reresher, let's first run Monte Carlo simulation for Option pricing using the method introduced in the [developer blog](https://developer.nvidia.com/blog/accelerating-python-for-exotic-option-pricing/). We choose to price the example Asian Barrier Option:\n",
    "\n",
    "    Maturity (T): 1 year\n",
    "    Spot (S) : 120\n",
    "    Strike (K): 110\n",
    "    Volatility (sigma): 35.0 %\n",
    "    Risk Free Rate (r): 5.0 %\n",
    "    Stock Drift Rate (mu): 10.0 %\n",
    "    Barrier (B): 100\n",
    "\n",
    "To handle continuous maturity time, we fix the number of steps per year and do the fractional step for the last step. Import the libraries and define the option parameters:"
   ]
  },
  {
   "cell_type": "code",
   "execution_count": 1,
   "metadata": {},
   "outputs": [
    {
     "name": "stdout",
     "output_type": "stream",
     "text": [
      "steps 365\n"
     ]
    }
   ],
   "source": [
    "import cupy\n",
    "import numpy as np\n",
    "import math\n",
    "import time\n",
    "import numba\n",
    "from numba import cuda\n",
    "from numba import njit\n",
    "from numba import prange\n",
    "import cudf\n",
    "cupy.cuda.set_allocator(None)\n",
    "#110.0, 100.0, 120.0, 0.35, 0.1, 0.05\n",
    "N_PATHS = 8192000\n",
    "Y_STEPS = 365 # constant, number of steps per year\n",
    "T = 1 # time, unit 1 year\n",
    "K = 110.0 # Strike price\n",
    "B = 100.0 # barrier price\n",
    "S0 = 120.0 # initial stock price \n",
    "sigma = 0.35 # stock annual volatility \n",
    "mu = 0.1 # stock annual return\n",
    "r = 0.05 # stock annual interest rate\n",
    "N_STEPS = int(np.ceil(T*Y_STEPS))\n",
    "print('steps', N_STEPS)"
   ]
  },
  {
   "cell_type": "markdown",
   "metadata": {},
   "source": [
    "allocate GPU arrays for random numbers and outputs."
   ]
  },
  {
   "cell_type": "code",
   "execution_count": 2,
   "metadata": {},
   "outputs": [],
   "source": [
    "randoms_gpu = cupy.random.normal(0, 1, N_PATHS * N_STEPS, dtype=cupy.float32)\n",
    "output =  np.zeros(N_PATHS, dtype=np.float32)\n",
    "doutput =  np.zeros(N_PATHS*5, dtype=np.float32)"
   ]
  },
  {
   "cell_type": "markdown",
   "metadata": {},
   "source": [
    "The following is the Numba kernel that we use to run simulation for each of the path. Note, the last step is handled specially to account for the continuous maturity time."
   ]
  },
  {
   "cell_type": "code",
   "execution_count": 3,
   "metadata": {},
   "outputs": [],
   "source": [
    "@cuda.jit\n",
    "def numba_gpu_barrier_option(d_s, K, B, S0, sigma, mu, r, d_normals, N_STEPS, N_PATHS):\n",
    "    # ii - overall thread index\n",
    "    ii = cuda.threadIdx.x + cuda.blockIdx.x * cuda.blockDim.x\n",
    "    stride = cuda.gridDim.x * cuda.blockDim.x\n",
    "    tmp1 = mu/Y_STEPS\n",
    "    tmp2 = math.exp(-r*T)\n",
    "    tmp3 = math.sqrt(1.0/Y_STEPS)\n",
    "    running_average = 0.0\n",
    "    for i in range(ii, N_PATHS, stride):\n",
    "        s_curr = S0\n",
    "        for n in range(N_STEPS):             \n",
    "            s_curr += tmp1 * s_curr + sigma*s_curr*tmp3*d_normals[i + n * N_PATHS]\n",
    "            running_average += (s_curr - running_average) / (n + 1.0)\n",
    "\n",
    "            if running_average <= B:\n",
    "                break\n",
    "        payoff = running_average - K if running_average>K else 0\n",
    "        d_s[i] = tmp2 * payoff"
   ]
  },
  {
   "cell_type": "markdown",
   "metadata": {},
   "source": [
    "Run the simulation and benchmark the computation time:"
   ]
  },
  {
   "cell_type": "code",
   "execution_count": 4,
   "metadata": {},
   "outputs": [
    {
     "name": "stdout",
     "output_type": "stream",
     "text": [
      "time 0.5035278797149658 v 18.700891\n"
     ]
    }
   ],
   "source": [
    "number_of_threads = 256\n",
    "number_of_blocks = (N_PATHS-1) // number_of_threads + 1\n",
    "output = cupy.zeros(N_PATHS, dtype=cupy.float32)\n",
    "numba_gpu_barrier_option[(number_of_blocks,), (number_of_threads,)](output, np.float32(K), \n",
    "                    np.float32(B), np.float32(S0), \n",
    "                    np.float32(sigma), np.float32(mu), \n",
    "                    np.float32(r), randoms_gpu, N_STEPS, N_PATHS)\n",
    "s = time.time()\n",
    "numba_gpu_barrier_option[(number_of_blocks,), (number_of_threads,)](output, np.float32(K), \n",
    "                    np.float32(B), np.float32(S0), \n",
    "                    np.float32(sigma), np.float32(mu), \n",
    "                    np.float32(r), randoms_gpu, N_STEPS, N_PATHS)\n",
    "v = output.mean()\n",
    "cuda.synchronize()\n",
    "e = time.time()\n",
    "print('time', e-s, 'v', v)"
   ]
  },
  {
   "cell_type": "markdown",
   "metadata": {},
   "source": [
    "Automatic adjoint differentiation(AAD) can be applied in the Monte Carlo simulation to calculate the Greeks accurately and efficiently according to \n",
    "the [paper](https://arxiv.org/pdf/2005.02347.pdf). We need to do some derivation to find the formular of pathwise differentials.\n",
    "\n",
    "The option parameters are  $K$, $S_0$, $\\sigma$, $\\mu$, $r$. For simplicity, we define $\\theta=(K, S_0, \\sigma, \\mu, r)$.\n",
    "\n",
    "The option price is computed by $$ p = E(f_i(\\theta)) = \\frac{1}{N}\\sum_i f_i$$, where $f_i$ is the option value at the exercise time for the $i^{th}$ path. The Greeks are the first-order differentiation with respect to $\\theta$: \n",
    "\n",
    "$$\\nabla_{\\theta} p = \\frac{1}{N}\\sum_i \\nabla_{\\theta} f_i $$"
   ]
  },
  {
   "cell_type": "markdown",
   "metadata": {},
   "source": [
    "Let's focus on the calculation of gradient of $f_i(\\theta)$. $f_i$ is calculated by Monte Carlo simulation method. Break it down into individual time steps. Without loss of generality, we drop the index $i$ here.\n",
    "\n",
    "$$    \\nabla_{\\theta} f = \n",
    "\\begin{cases}\n",
    "    \\nabla_{\\theta} (a_n(\\theta) - K)  & \\text{if } a_n\\geq K\\\\\n",
    "    (0,0,0,0,0)              & \\text{otherwise}\n",
    "\\end{cases}\n",
    "$$\n",
    "\n",
    "where the moving average $a_n$ at step $n$ is\n",
    "\n",
    "$$a_n = g(a_{n-1}, s_{n}) = a_{n-1} + \\frac{s_{n} - a_{n-1}}{n + 1.0}$$"
   ]
  },
  {
   "cell_type": "markdown",
   "metadata": {},
   "source": [
    "The gradient of $a_n$:\n",
    "$$ \\nabla_{\\theta} a_n = \\frac{\\partial g} {\\partial a_{n-1}} \\nabla_{\\theta} a_{n-1} + \\frac{\\partial g} {\\partial s_{n}} \\nabla_{\\theta} s_{n} = \\frac{n}{n+1} \\nabla_{\\theta} a_{n-1} + \\frac{1}{n+1} \\nabla_{\\theta} s_{n} $$"
   ]
  },
  {
   "cell_type": "markdown",
   "metadata": {},
   "source": [
    "The stock price $s_n$ at step $n$ is:\n",
    "$$s_n = s(s_{n-1}, \\theta) = s_{n-1} + \\frac{\\mu}{Y} s_{n-1} + \\sigma  \\sqrt{\\frac{1}{Y}} n_n s_{n-1}$$\n",
    "\n",
    "\n",
    "The gradient of $s_n$:\n",
    "$$\\nabla_{\\theta} s_n = \\nabla_{\\theta} s(s_{n-1}, \\theta) = (1 + \\frac{\\mu}{Y} + \\sigma \\sqrt{\\frac{1}{Y}} n_n) \\nabla_{\\theta} s_{n-1} + \\nabla_{\\theta} (1 + \\frac{\\mu}{Y} + \\sigma \\sqrt{\\frac{1}{Y}} n_n) s_{n-1} $$\n",
    "where the gradient in the second term is:\n",
    "$$\\nabla_{\\theta} (1 + \\frac{\\mu}{Y} + \\sigma \\sqrt{\\frac{1}{Y}} v_n) = (0, 0, 1/Y, \\sqrt{1/Y} n_n ,0) $$\n",
    "\n"
   ]
  },
  {
   "cell_type": "markdown",
   "metadata": {},
   "source": [
    "The initial contition $$\\nabla_{\\theta} S_0 = (0,1,0,0,0)$$\n",
    "\n",
    "Let's convert these equations into code in the Numba kernel:"
   ]
  },
  {
   "cell_type": "code",
   "execution_count": 5,
   "metadata": {},
   "outputs": [],
   "source": [
    "@cuda.jit\n",
    "def numba_gpu_barrier_option(d_s, doutput, K, B, S0, sigma, mu, r, d_normals, N_STEPS, N_PATHS):\n",
    "    # ii - overall thread index\n",
    "    \n",
    "    ii = cuda.threadIdx.x + cuda.blockIdx.x * cuda.blockDim.x\n",
    "    stride = cuda.gridDim.x * cuda.blockDim.x\n",
    "    tmp1 = mu/Y_STEPS\n",
    "    tmp2 = math.exp(-r)\n",
    "    tmp3 = math.sqrt(1.0/Y_STEPS)\n",
    "    running_average = 0.0\n",
    "    d_theta = numba.cuda.local.array(5, numba.float64)\n",
    "    d_a = numba.cuda.local.array(5, numba.float64)\n",
    "    for i in range(ii, N_PATHS, stride):\n",
    "        d_theta[0] = 0 # K\n",
    "        d_theta[1] = 1 # S_0\n",
    "        d_theta[2] = 0 # mu\n",
    "        d_theta[3] = 0 # sigma\n",
    "        d_theta[4] = 0 # r\n",
    "        for k in range(5):\n",
    "            d_a[k] = 0\n",
    "        s_curr = S0\n",
    "        for n in range(N_STEPS):\n",
    "            \n",
    "            ## start to compute the gradient\n",
    "            factor = (1.0+tmp1+sigma*tmp3*d_normals[i + n * N_PATHS])\n",
    "            for k in range(5):\n",
    "                 d_theta[k] *= factor\n",
    "\n",
    "            d_theta[2] += 1.0/Y_STEPS * s_curr\n",
    "            d_theta[3] += tmp3 * d_normals[i + n * N_PATHS] * s_curr\n",
    "            for k in range(5):\n",
    "                d_a[k] = d_a[k]*n/(n+1.0) + d_theta[k]/(n+1.0)\n",
    "            ## start to compute current stock price and moving average\n",
    "              \n",
    "            s_curr += tmp1 * s_curr + sigma*s_curr*tmp3*d_normals[i + n * N_PATHS]\n",
    "            running_average += (s_curr - running_average) / (n + 1.0)\n",
    "            # print(running_average, n, tmp1 * s_curr, sigma,s_curr, tmp3,d_normals[i + n * N_PATHS])\n",
    "            if running_average <= B:\n",
    "                break\n",
    "        payoff = running_average - K if running_average>K else 0\n",
    "        d_s[i] = tmp2 * payoff\n",
    "        # gradient for strik \n",
    "        if running_average > K:\n",
    "            d_a[0] = -1\n",
    "            # adjust gradient for discount factor\n",
    "            for k in range(5):\n",
    "                d_a[k] *= tmp2\n",
    "            d_a[4] += payoff * tmp2* -1.0\n",
    "        else:\n",
    "            for k in range(5):\n",
    "                d_a[k] = 0\n",
    "        for k in range(5):\n",
    "            doutput[k*N_PATHS+i] = d_a[k]"
   ]
  },
  {
   "cell_type": "markdown",
   "metadata": {},
   "source": [
    "Run the simulation and benchmark the computation time:"
   ]
  },
  {
   "cell_type": "code",
   "execution_count": 6,
   "metadata": {},
   "outputs": [
    {
     "name": "stdout",
     "output_type": "stream",
     "text": [
      "time 1.3155066967010498 v 18.700891\n",
      "greeks [ -0.6714548    0.77134085  48.02113     20.457764   -18.700884  ]\n"
     ]
    }
   ],
   "source": [
    "number_of_threads = 256\n",
    "number_of_blocks = (N_PATHS-1) // number_of_threads + 1\n",
    "output = cupy.zeros(N_PATHS, dtype=cupy.float32)\n",
    "numba_gpu_barrier_option[(number_of_blocks,), (number_of_threads,)](output, doutput, np.float32(K), \n",
    "                    np.float32(B), np.float32(S0), \n",
    "                    np.float32(sigma), np.float32(mu), \n",
    "                    np.float32(r), randoms_gpu, N_STEPS, N_PATHS)\n",
    "s = time.time()\n",
    "numba_gpu_barrier_option[(number_of_blocks,), (number_of_threads,)](output, doutput, np.float32(K), \n",
    "                    np.float32(B), np.float32(S0), \n",
    "                    np.float32(sigma), np.float32(mu), \n",
    "                    np.float32(r), randoms_gpu, N_STEPS, N_PATHS)\n",
    "v = output.mean()\n",
    "cuda.synchronize()\n",
    "e = time.time()\n",
    "print('time', e-s, 'v', v)\n",
    "greeks = doutput.reshape(5, N_PATHS).mean(axis=1)\n",
    "print('greeks', greeks)"
   ]
  },
  {
   "cell_type": "markdown",
   "metadata": {},
   "source": [
    "As we shown in the [developer blog](https://developer.nvidia.com/blog/accelerating-python-for-exotic-option-pricing/), Cupy implementation is faster as it compiles the native CUDA code. The following is the same GPU kernel that is implemented in Cupy. It can handle batches of simulations simutaneously in the GPU. "
   ]
  },
  {
   "cell_type": "code",
   "execution_count": 7,
   "metadata": {},
   "outputs": [],
   "source": [
    "import cupy\n",
    "cupy_batched_barrier_option = cupy.RawKernel(r'''\n",
    "extern \"C\" __global__ void batched_barrier_option(\n",
    "    float *d_s,\n",
    "    float *d_d,\n",
    "    const float K,\n",
    "    const float B,\n",
    "    const float S0,\n",
    "    const float sigma,\n",
    "    const float mu,\n",
    "    const float r,\n",
    "    const float * d_normals,\n",
    "    const long N_STEPS,\n",
    "    const long Y_STEPS,\n",
    "    const long N_PATHS)\n",
    "{\n",
    "  unsigned idx =  threadIdx.x + blockIdx.x * blockDim.x;\n",
    "  unsigned stride = blockDim.x * gridDim.x;\n",
    "  unsigned tid = threadIdx.x;\n",
    "  double d_theta[5];\n",
    "  double d_a[5];\n",
    "\n",
    "  for (unsigned i = idx; i<N_PATHS; i+=stride)\n",
    "  {\n",
    "    d_theta[0] = 0; // K\n",
    "    d_theta[1] = 1.0; // S_0\n",
    "    d_theta[2] = 0; // mu\n",
    "    d_theta[3] = 0; // sigma\n",
    "    d_theta[4] = 0; // r\n",
    "    for (unsigned k = 0; k < 5; k++){\n",
    "      d_a[k] = 0.0;\n",
    "    }\n",
    "    \n",
    "    int path_id = i;\n",
    "    float s_curr = S0;\n",
    "    float tmp1 = mu/Y_STEPS;\n",
    "    float tmp2 = exp(-r);\n",
    "    float tmp3 = sqrt(1.0/Y_STEPS);\n",
    "    unsigned n=0;\n",
    "    double running_average = 0.0;\n",
    "    for(unsigned n = 0; n < N_STEPS; n++){\n",
    "\n",
    "        float normal = d_normals[path_id + n * N_PATHS];\n",
    "                \n",
    "        // start to compute the gradient\n",
    "        float factor = (1.0+tmp1+sigma*tmp3*normal);\n",
    "        for (unsigned k=0; k < 5; k++) {\n",
    "            d_theta[k] *= factor;\n",
    "        }\n",
    "        \n",
    "\n",
    "        d_theta[2] += 1.0/Y_STEPS * s_curr;\n",
    "        d_theta[3] += tmp3 * normal * s_curr;\n",
    "\n",
    "        for (unsigned k = 0; k < 5; k++) {\n",
    "                d_a[k] = d_a[k]*n/(n+1.0) + d_theta[k]/(n+1.0); \n",
    "        }\n",
    "        \n",
    "        \n",
    "        // start to compute current stock price and moving average       \n",
    "       \n",
    "       s_curr += tmp1 * s_curr + sigma*s_curr*tmp3*normal;\n",
    "       running_average += (s_curr - running_average) / (n + 1.0);\n",
    "       if (running_average <= B){\n",
    "           break;\n",
    "       }\n",
    "    }\n",
    "\n",
    "    float payoff = (running_average>K ? running_average-K : 0.f); \n",
    "    d_s[i] = tmp2 * payoff;\n",
    "    \n",
    "    // gradient for strik \n",
    "    if (running_average > K){\n",
    "       d_a[0] = -1.0;\n",
    "       // adjust gradient for discount factor\n",
    "       for (unsigned k = 0; k < 5; k++) {\n",
    "            d_a[k] *= tmp2;\n",
    "        }\n",
    "        d_a[4] += - payoff * tmp2;\n",
    "        \n",
    "    }\n",
    "    else {\n",
    "        for (unsigned k = 0; k < 5; k++) {\n",
    "           d_a[k] = 0.0;\n",
    "        }\n",
    "\n",
    "    }\n",
    "    \n",
    "    for (unsigned k = 0; k < 5; k++) {\n",
    "       d_d[k*N_PATHS+i] = d_a[k];\n",
    "    }\n",
    "  }\n",
    "}\n",
    "\n",
    "''', 'batched_barrier_option')"
   ]
  },
  {
   "cell_type": "markdown",
   "metadata": {},
   "source": [
    "Wrap the driver function into a function to call this Cupy GPU kernel:"
   ]
  },
  {
   "cell_type": "code",
   "execution_count": 8,
   "metadata": {},
   "outputs": [
    {
     "name": "stdout",
     "output_type": "stream",
     "text": [
      "365\n",
      "time 0.004988431930541992 v 18.862803\n",
      "(5,)\n",
      "gradient [ -0.6728276    0.77394855  48.233276    20.973333   -18.862803  ]\n"
     ]
    }
   ],
   "source": [
    "import time\n",
    "Y_STEPS = 365\n",
    "N_BATCH = 2\n",
    "N_PATHS = 10240\n",
    "K = 110.0 # Strike price\n",
    "B = 100.0 # barrier price\n",
    "S0 = 120.0 # initial stock price \n",
    "sigma = 0.35 # stock annual volatility \n",
    "mu = 0.1 # stock annual return\n",
    "r = 0.05 # stock annual interest rate\n",
    "N_STEPS = Y_STEPS\n",
    "print(N_STEPS)\n",
    "\n",
    "def batch_run(seed=None):\n",
    "    number_of_threads = 256\n",
    "    number_of_blocks = (N_PATHS - 1) // number_of_threads + 1\n",
    "    random_elements = int(N_STEPS*N_PATHS)\n",
    "    if seed is not None:\n",
    "        cupy.random.seed(seed)\n",
    "    randoms_gpu = cupy.random.normal(0, 1, random_elements, dtype=cupy.float32)\n",
    "    output = cupy.zeros(N_PATHS, dtype=cupy.float32)\n",
    "    d_output = cupy.zeros(N_PATHS*5, dtype=cupy.float32)\n",
    "    cupy.cuda.stream.get_current_stream().synchronize()\n",
    "    s = time.time() \n",
    "    cupy_batched_barrier_option((number_of_blocks,), (number_of_threads,),\n",
    "                       (output, d_output, np.float32(K), np.float32(B), np.float32(S0), np.float32(sigma), np.float32(mu), np.float32(r),\n",
    "                        randoms_gpu, N_STEPS, Y_STEPS, N_PATHS))\n",
    "    v = output.mean()\n",
    "    b = d_output.reshape(5, N_PATHS).mean(axis=1)\n",
    "    cupy.cuda.stream.get_current_stream().synchronize()\n",
    "    e = time.time()\n",
    "    print('time', e-s, 'v',v)\n",
    "    print(b.shape)\n",
    "    print('gradient', b)\n",
    "    return output\n",
    "o = batch_run()"
   ]
  },
  {
   "cell_type": "code",
   "execution_count": 11,
   "metadata": {},
   "outputs": [
    {
     "name": "stdout",
     "output_type": "stream",
     "text": [
      "110.0 100.0 120.0 0.35 0.1 0.05\n",
      "price 18.69982\n",
      "greek [ -0.67117995   0.77111435  48.007164    20.468712   -18.69982   ]\n",
      "109.9 100.0 120.0 0.35 0.1 0.05\n",
      "110.1 100.0 120.0 0.35 0.1 0.05\n",
      "dK -0.6712055\n",
      "110.0 100.0 119.9 0.35 0.1 0.05\n",
      "110.0 100.0 120.1 0.35 0.1 0.05\n",
      "dS 0.7872772\n",
      "110.0 100.0 120.0 0.33999999999999997 0.1 0.05\n",
      "110.0 100.0 120.0 0.36 0.1 0.05\n",
      "dSigma 19.336033\n",
      "110.0 100.0 120.0 0.35 0.09000000000000001 0.05\n",
      "110.0 100.0 120.0 0.35 0.11 0.05\n",
      "dMu 48.282337\n",
      "110.0 100.0 120.0 0.35 0.1 0.04\n",
      "110.0 100.0 120.0 0.35 0.1 0.060000000000000005\n",
      "dR -18.699932\n"
     ]
    }
   ],
   "source": [
    "def compute(K, B, S0, sigma, mu, r, N_PATHS=102400):\n",
    "    Y_STEPS = 365\n",
    "    N_STEPS = 365\n",
    "    N_BATCH = 1\n",
    "\n",
    "\n",
    "    def batch_run(seed=3):\n",
    "        number_of_threads = 256\n",
    "        number_of_blocks = (N_PATHS - 1) // number_of_threads + 1\n",
    "        random_elements = int(N_STEPS*N_PATHS)\n",
    "        cupy.random.seed(seed)\n",
    "        randoms_gpu = cupy.random.normal(0, 1, random_elements, dtype=cupy.float32)\n",
    "        output = cupy.zeros(N_PATHS, dtype=cupy.float32)\n",
    "        d_output = cupy.zeros(N_PATHS*5, dtype=cupy.float32)\n",
    "        cupy.cuda.stream.get_current_stream().synchronize()\n",
    "        cupy_batched_barrier_option((number_of_blocks,), (number_of_threads,),\n",
    "                       (output, d_output, np.float32(K), np.float32(B), np.float32(S0), np.float32(sigma), np.float32(mu), np.float32(r),\n",
    "                        randoms_gpu, N_STEPS, Y_STEPS, N_PATHS))\n",
    "        v = output.mean()\n",
    "        b = d_output.reshape(5, N_PATHS).mean(axis=1)\n",
    "        cupy.cuda.stream.get_current_stream().synchronize()\n",
    "        return v, b\n",
    "    return batch_run()\n",
    "price, greeks = compute(110., 100., 120., 0.35, 0.1, 0.05, N_PATHS=10240000)\n",
    "print('price', price)\n",
    "print('greek', greeks)\n",
    "def num_greek(T, K, B, S0, sigma, mu, r):\n",
    "    delta = 1e-1\n",
    "    v0, _ = compute(K-delta, B, S0, sigma, mu, r, N_PATHS=10240000)\n",
    "    v1, _ = compute(K+delta, B, S0, sigma, mu, r, N_PATHS=10240000)\n",
    "    print('dK', (v1- v0)/(2*delta))\n",
    "    delta = 1e-1\n",
    "    v0, _ = compute(K, B, S0-delta, sigma, mu, r, N_PATHS=10240000)\n",
    "    v1, _ = compute(K, B, S0+delta, sigma, mu, r, N_PATHS=10240000)\n",
    "    print('dS',(v1- v0)/(2*delta))  \n",
    "    delta = 1e-2\n",
    "    v0, _ = compute(K, B, S0, sigma-delta, mu, r, N_PATHS=10240000)\n",
    "    v1, _ = compute(K, B, S0, sigma+delta, mu, r, N_PATHS=10240000)\n",
    "    print('dSigma', (v1- v0)/(2*delta))\n",
    "    delta = 1e-2\n",
    "    v0, _ = compute(K, B, S0, sigma, mu-delta, r, N_PATHS=10240000)\n",
    "    v1, _ = compute(K, B, S0, sigma, mu+delta, r, N_PATHS=10240000)\n",
    "    print('dMu', (v1- v0)/(2*delta))\n",
    "    delta = 1e-2\n",
    "    v0, _ = compute(K, B, S0, sigma, mu, r-delta, N_PATHS=10240000)\n",
    "    v1, _ = compute(K, B, S0, sigma, mu, r+delta, N_PATHS=10240000)\n",
    "    print('dR', (v1- v0)/(2*delta))\n",
    "    \n",
    "num_greek(1.1, 110., 100., 120., 0.35, 0.1, 0.05)"
   ]
  },
  {
   "cell_type": "markdown",
   "metadata": {},
   "source": [
    "After the simulation, it generates both option price and Greeks. gQuant organizes all the computation steps into weakly coupled computation nodes.\n",
    "\n",
    "We create one node that is used to generate random Option parameters."
   ]
  },
  {
   "cell_type": "code",
   "execution_count": 10,
   "metadata": {},
   "outputs": [
    {
     "data": {
      "application/vnd.jupyter.widget-view+json": {
       "model_id": "b02ee4d4a8ec4ad893ed4aa4687f389e",
       "version_major": 2,
       "version_minor": 0
      },
      "text/plain": [
       "GQuantWidget(sub=HBox(), value=[OrderedDict([('id', 'parameters'), ('type', 'ParaNode'), ('conf', {'seed': 23}…"
      ]
     },
     "metadata": {},
     "output_type": "display_data"
    }
   ],
   "source": [
    "from gquant.dataframe_flow import TaskGraph\n",
    "taskgraph = TaskGraph.load_taskgraph('./option_parameter.gq.yaml')\n",
    "taskgraph.draw()"
   ]
  },
  {
   "cell_type": "markdown",
   "metadata": {},
   "source": [
    "The paramter node returns an iteratable object that emits one set of parameters at a time. Let's evaluate it and get 3 parameters samples"
   ]
  },
  {
   "cell_type": "code",
   "execution_count": 11,
   "metadata": {},
   "outputs": [
    {
     "name": "stdout",
     "output_type": "stream",
     "text": [
      "[1.0447818e+01 1.0731429e+01 7.5738693e+01 1.3961923e-01 2.1572977e-01\n",
      " 5.2736355e-03]\n",
      "[1.0187787e+01 1.0532363e+01 1.6310895e+02 2.6019182e-02 2.1567108e-01\n",
      " 1.2974015e-01]\n",
      "[1.0359708e+01 1.0886375e+01 6.4217033e+01 1.7851767e-01 2.5280696e-01\n",
      " 1.3791301e-02]\n"
     ]
    }
   ],
   "source": [
    "para_iter = taskgraph.run()[0]\n",
    "print(next(para_iter))\n",
    "print(next(para_iter))\n",
    "print(next(para_iter))"
   ]
  },
  {
   "cell_type": "markdown",
   "metadata": {},
   "source": [
    "The parameter node feed the parameter iterator to simulaiton node that computes the option price and greeks"
   ]
  },
  {
   "cell_type": "code",
   "execution_count": 12,
   "metadata": {},
   "outputs": [
    {
     "data": {
      "application/vnd.jupyter.widget-view+json": {
       "model_id": "226e4286fceb46d380a9be956f5bf226",
       "version_major": 2,
       "version_minor": 0
      },
      "text/plain": [
       "GQuantWidget(sub=HBox(), value=[OrderedDict([('id', 'parameters'), ('type', 'ParaNode'), ('conf', {'seed': 23}…"
      ]
     },
     "metadata": {},
     "output_type": "display_data"
    }
   ],
   "source": [
    "from gquant.dataframe_flow import TaskGraph\n",
    "taskgraph = TaskGraph.load_taskgraph('./option_simulation.gq.yaml')\n",
    "taskgraph.draw()"
   ]
  },
  {
   "cell_type": "markdown",
   "metadata": {},
   "source": [
    "The simulation node returns an iteratable object that emits the parameters alongside with the corresponding option price and Greeks. Let's evaluate it and run 3 simulations:"
   ]
  },
  {
   "cell_type": "code",
   "execution_count": 15,
   "metadata": {},
   "outputs": [
    {
     "name": "stdout",
     "output_type": "stream",
     "text": [
      "(array([1.1e+02, 1.0e+02, 1.2e+02, 1.0e-01, 3.5e-01, 5.0e-02],\n",
      "      dtype=float32), array([ 26.979107 ,  -0.9511752,   1.0175067,  48.32628  ,   9.225855 ,\n",
      "       -26.979107 ], dtype=float32))\n",
      "(array([1.1e+02, 1.0e+02, 1.2e+02, 1.0e-01, 3.5e-01, 5.0e-02],\n",
      "      dtype=float32), array([ 26.961382 ,  -0.9511752,   1.0173591,  48.306942 ,   9.172027 ,\n",
      "       -26.961382 ], dtype=float32))\n",
      "(array([1.1e+02, 1.0e+02, 1.2e+02, 1.0e-01, 3.5e-01, 5.0e-02],\n",
      "      dtype=float32), array([ 26.976645 ,  -0.9511752,   1.0174862,  48.325832 ,   9.218872 ,\n",
      "       -26.976645 ], dtype=float32))\n"
     ]
    }
   ],
   "source": [
    "sim_iter = taskgraph.run()[0]\n",
    "print(next(sim_iter))\n",
    "print(next(sim_iter))\n",
    "print(next(sim_iter))"
   ]
  },
  {
   "cell_type": "code",
   "execution_count": 13,
   "metadata": {},
   "outputs": [
    {
     "name": "stdout",
     "output_type": "stream",
     "text": [
      "110.0 100.0 120.0 0.3499999940395355 0.10000000149011612 0.05000000074505806\n",
      "(array([1.0e+02, 1.1e+02, 1.2e+02, 1.0e-01, 3.5e-01, 5.0e-02],\n",
      "      dtype=float32), array([ 18.705942 ,  -0.6713809,   0.7713495,  48.02244  ,  20.479053 ,\n",
      "       -18.705942 ], dtype=float32))\n",
      "110.0 100.0 120.0 0.3499999940395355 0.10000000149011612 0.05000000074505806\n",
      "(array([1.0e+02, 1.1e+02, 1.2e+02, 1.0e-01, 3.5e-01, 5.0e-02],\n",
      "      dtype=float32), array([ 18.706078  ,  -0.67118824,   0.771174  ,  48.011593  ,\n",
      "        20.490744  , -18.706078  ], dtype=float32))\n",
      "110.0 100.0 120.0 0.3499999940395355 0.10000000149011612 0.05000000074505806\n",
      "(array([1.0e+02, 1.1e+02, 1.2e+02, 1.0e-01, 3.5e-01, 5.0e-02],\n",
      "      dtype=float32), array([ 18.710524  ,  -0.67143583,   0.77143806,  48.026913  ,\n",
      "        20.486582  , -18.710524  ], dtype=float32))\n"
     ]
    }
   ],
   "source": [
    "from gquant.dataframe_flow import TaskGraph\n",
    "taskgraph = TaskGraph.load_taskgraph('./verify.gq.yaml')\n",
    "sim_iter = taskgraph.run()[0]\n",
    "print(next(sim_iter))\n",
    "print(next(sim_iter))\n",
    "print(next(sim_iter))"
   ]
  },
  {
   "cell_type": "markdown",
   "metadata": {},
   "source": [
    "The simulation computes both the option price and Greeks. Greeks can be used to add differential regularization to the cost function. The simulation is very costly even with GPUs. The Option price accuracy depends on the number of paths because the standard deviation scale with the $n$ number of paths as $\\frac{1}{\\sqrt{n}}$. To speed up the option pricing and Greek compuation, we can use a neural network to approximate the option pricing simulation. \n",
    "\n",
    "We have seen the simulation can generate any numbers of data points in Cupy GPU arrays. It is easy to convert Cupy GPU array into Pytorch tensors via DLpack library."
   ]
  },
  {
   "cell_type": "code",
   "execution_count": 21,
   "metadata": {},
   "outputs": [
    {
     "data": {
      "text/plain": [
       "(array([[5.0248528e+01, 1.4897156e+00, 7.5738693e+01, 1.4951923e+02,\n",
       "         1.0791489e-01, 1.0447271e-02, 7.1361013e-02]], dtype=float32),\n",
       " array([[  77.81717   ,   -5.5078187 ,   -0.8991493 ,    0.975911  ,\n",
       "          112.239784  ,   -0.15982881, -115.925446  ]], dtype=float32))"
      ]
     },
     "execution_count": 21,
     "metadata": {},
     "output_type": "execute_result"
    }
   ],
   "source": [
    "\n",
    "next(taskgraph.run()[0])"
   ]
  },
  {
   "cell_type": "code",
   "execution_count": 46,
   "metadata": {},
   "outputs": [],
   "source": [
    "\n",
    "def collector_data(seed):\n",
    "    taskgraph = TaskGraph.load_taskgraph('./option_simulation.gq.yaml')\n",
    "    iterator = taskgraph.run(replace={\"parameters\": {\n",
    "        \"conf\": {\n",
    "            \"seed\": seed\n",
    "        }\n",
    "    }})[0]\n",
    "    number = 102400\n",
    "    block = 10\n",
    "    for bid in range(block):\n",
    "        paras = []\n",
    "        targets = []\n",
    "        for i in range(number):\n",
    "            sim_result = next(iterator)\n",
    "            para = sim_result[0]\n",
    "            target = sim_result[1]\n",
    "            paras.append(para)\n",
    "            targets.append(target)\n",
    "        cupy.save('para_seed{}_block{}'.format(seed, bid), cupy.concatenate(paras))\n",
    "        cupy.save('taget_seed{}_block{}'.format(seed, bid), cupy.concatenate(targets))\n"
   ]
  },
  {
   "cell_type": "code",
   "execution_count": 64,
   "metadata": {},
   "outputs": [
    {
     "name": "stdout",
     "output_type": "stream",
     "text": [
      "(array([[4.1671780e+01, 1.9071181e+00, 1.0493592e+02, 1.9296080e+02,\n",
      "        1.8465599e-01, 1.7604582e-01, 1.5656979e-01]], dtype=float32), array([[ 9.3870270e+01, -1.4619228e+01, -7.4185354e-01,  8.8991117e-01,\n",
      "         1.7414128e+02, -1.4608005e-01, -1.7902191e+02]], dtype=float32))\n"
     ]
    },
    {
     "ename": "CUDARuntimeError",
     "evalue": "cudaErrorMemoryAllocation: out of memory",
     "output_type": "error",
     "traceback": [
      "\u001b[0;31m---------------------------------------------------------------------------\u001b[0m",
      "\u001b[0;31mCUDARuntimeError\u001b[0m                          Traceback (most recent call last)",
      "\u001b[0;32m<ipython-input-64-95acdbf50269>\u001b[0m in \u001b[0;36m<module>\u001b[0;34m\u001b[0m\n\u001b[1;32m     23\u001b[0m     }\n\u001b[1;32m     24\u001b[0m }})[0]\n\u001b[0;32m---> 25\u001b[0;31m \u001b[0mprint\u001b[0m\u001b[0;34m(\u001b[0m\u001b[0mnext\u001b[0m\u001b[0;34m(\u001b[0m\u001b[0miterator\u001b[0m\u001b[0;34m)\u001b[0m\u001b[0;34m)\u001b[0m\u001b[0;34m\u001b[0m\u001b[0;34m\u001b[0m\u001b[0m\n\u001b[0m",
      "\u001b[0;32m~/Projects/demo_gquant_install/plugins/option_plugin/gquant_option_plugin/option_price_sim.py\u001b[0m in \u001b[0;36m__next__\u001b[0;34m(self)\u001b[0m\n\u001b[1;32m    182\u001b[0m                             - 1) // number_of_threads + 1\n\u001b[1;32m    183\u001b[0m         \u001b[0mrandom_elements\u001b[0m \u001b[0;34m=\u001b[0m \u001b[0;34m(\u001b[0m\u001b[0mN_STEPS\u001b[0m\u001b[0;34m.\u001b[0m\u001b[0mmax\u001b[0m\u001b[0;34m(\u001b[0m\u001b[0;34m)\u001b[0m\u001b[0;34m*\u001b[0m\u001b[0mself\u001b[0m\u001b[0;34m.\u001b[0m\u001b[0mN_PATHS\u001b[0m\u001b[0;34m*\u001b[0m\u001b[0mself\u001b[0m\u001b[0;34m.\u001b[0m\u001b[0mN_BATCH\u001b[0m\u001b[0;34m)\u001b[0m\u001b[0;34m.\u001b[0m\u001b[0mitem\u001b[0m\u001b[0;34m(\u001b[0m\u001b[0;34m)\u001b[0m\u001b[0;34m\u001b[0m\u001b[0;34m\u001b[0m\u001b[0m\n\u001b[0;32m--> 184\u001b[0;31m         randoms_gpu = cupy.random.normal(0, 1, random_elements,\n\u001b[0m\u001b[1;32m    185\u001b[0m                                          dtype=cupy.float32)\n\u001b[1;32m    186\u001b[0m         \u001b[0moutput\u001b[0m \u001b[0;34m=\u001b[0m \u001b[0mcupy\u001b[0m\u001b[0;34m.\u001b[0m\u001b[0mzeros\u001b[0m\u001b[0;34m(\u001b[0m\u001b[0mself\u001b[0m\u001b[0;34m.\u001b[0m\u001b[0mN_BATCH\u001b[0m \u001b[0;34m*\u001b[0m \u001b[0mself\u001b[0m\u001b[0;34m.\u001b[0m\u001b[0mN_PATHS\u001b[0m\u001b[0;34m,\u001b[0m \u001b[0mdtype\u001b[0m\u001b[0;34m=\u001b[0m\u001b[0mcupy\u001b[0m\u001b[0;34m.\u001b[0m\u001b[0mfloat32\u001b[0m\u001b[0;34m)\u001b[0m\u001b[0;34m\u001b[0m\u001b[0;34m\u001b[0m\u001b[0m\n",
      "\u001b[0;32m~/miniconda3/envs/price/lib/python3.8/site-packages/cupy/random/_distributions.py\u001b[0m in \u001b[0;36mnormal\u001b[0;34m(loc, scale, size, dtype)\u001b[0m\n\u001b[1;32m    519\u001b[0m     \"\"\"\n\u001b[1;32m    520\u001b[0m     \u001b[0mrs\u001b[0m \u001b[0;34m=\u001b[0m \u001b[0m_generator\u001b[0m\u001b[0;34m.\u001b[0m\u001b[0mget_random_state\u001b[0m\u001b[0;34m(\u001b[0m\u001b[0;34m)\u001b[0m\u001b[0;34m\u001b[0m\u001b[0;34m\u001b[0m\u001b[0m\n\u001b[0;32m--> 521\u001b[0;31m     \u001b[0mx\u001b[0m \u001b[0;34m=\u001b[0m \u001b[0mrs\u001b[0m\u001b[0;34m.\u001b[0m\u001b[0mnormal\u001b[0m\u001b[0;34m(\u001b[0m\u001b[0;36m0\u001b[0m\u001b[0;34m,\u001b[0m \u001b[0;36m1\u001b[0m\u001b[0;34m,\u001b[0m \u001b[0msize\u001b[0m\u001b[0;34m,\u001b[0m \u001b[0mdtype\u001b[0m\u001b[0;34m)\u001b[0m\u001b[0;34m\u001b[0m\u001b[0;34m\u001b[0m\u001b[0m\n\u001b[0m\u001b[1;32m    522\u001b[0m     \u001b[0mcupy\u001b[0m\u001b[0;34m.\u001b[0m\u001b[0mmultiply\u001b[0m\u001b[0;34m(\u001b[0m\u001b[0mx\u001b[0m\u001b[0;34m,\u001b[0m \u001b[0mscale\u001b[0m\u001b[0;34m,\u001b[0m \u001b[0mout\u001b[0m\u001b[0;34m=\u001b[0m\u001b[0mx\u001b[0m\u001b[0;34m)\u001b[0m\u001b[0;34m\u001b[0m\u001b[0;34m\u001b[0m\u001b[0m\n\u001b[1;32m    523\u001b[0m     \u001b[0mcupy\u001b[0m\u001b[0;34m.\u001b[0m\u001b[0madd\u001b[0m\u001b[0;34m(\u001b[0m\u001b[0mx\u001b[0m\u001b[0;34m,\u001b[0m \u001b[0mloc\u001b[0m\u001b[0;34m,\u001b[0m \u001b[0mout\u001b[0m\u001b[0;34m=\u001b[0m\u001b[0mx\u001b[0m\u001b[0;34m)\u001b[0m\u001b[0;34m\u001b[0m\u001b[0;34m\u001b[0m\u001b[0m\n",
      "\u001b[0;32m~/miniconda3/envs/price/lib/python3.8/site-packages/cupy/random/_generator.py\u001b[0m in \u001b[0;36mnormal\u001b[0;34m(self, loc, scale, size, dtype)\u001b[0m\n\u001b[1;32m    458\u001b[0m         \u001b[0;32melse\u001b[0m\u001b[0;34m:\u001b[0m\u001b[0;34m\u001b[0m\u001b[0;34m\u001b[0m\u001b[0m\n\u001b[1;32m    459\u001b[0m             \u001b[0mfunc\u001b[0m \u001b[0;34m=\u001b[0m \u001b[0mcurand\u001b[0m\u001b[0;34m.\u001b[0m\u001b[0mgenerateNormalDouble\u001b[0m\u001b[0;34m\u001b[0m\u001b[0;34m\u001b[0m\u001b[0m\n\u001b[0;32m--> 460\u001b[0;31m         \u001b[0;32mreturn\u001b[0m \u001b[0mself\u001b[0m\u001b[0;34m.\u001b[0m\u001b[0m_generate_normal\u001b[0m\u001b[0;34m(\u001b[0m\u001b[0mfunc\u001b[0m\u001b[0;34m,\u001b[0m \u001b[0msize\u001b[0m\u001b[0;34m,\u001b[0m \u001b[0mdtype\u001b[0m\u001b[0;34m,\u001b[0m \u001b[0mloc\u001b[0m\u001b[0;34m,\u001b[0m \u001b[0mscale\u001b[0m\u001b[0;34m)\u001b[0m\u001b[0;34m\u001b[0m\u001b[0;34m\u001b[0m\u001b[0m\n\u001b[0m\u001b[1;32m    461\u001b[0m \u001b[0;34m\u001b[0m\u001b[0m\n\u001b[1;32m    462\u001b[0m     \u001b[0;32mdef\u001b[0m \u001b[0mpareto\u001b[0m\u001b[0;34m(\u001b[0m\u001b[0mself\u001b[0m\u001b[0;34m,\u001b[0m \u001b[0ma\u001b[0m\u001b[0;34m,\u001b[0m \u001b[0msize\u001b[0m\u001b[0;34m=\u001b[0m\u001b[0;32mNone\u001b[0m\u001b[0;34m,\u001b[0m \u001b[0mdtype\u001b[0m\u001b[0;34m=\u001b[0m\u001b[0mfloat\u001b[0m\u001b[0;34m)\u001b[0m\u001b[0;34m:\u001b[0m\u001b[0;34m\u001b[0m\u001b[0;34m\u001b[0m\u001b[0m\n",
      "\u001b[0;32m~/miniconda3/envs/price/lib/python3.8/site-packages/cupy/random/_generator.py\u001b[0m in \u001b[0;36m_generate_normal\u001b[0;34m(self, func, size, dtype, *args)\u001b[0m\n\u001b[1;32m     78\u001b[0m         \u001b[0melement_size\u001b[0m \u001b[0;34m=\u001b[0m \u001b[0mfunctools\u001b[0m\u001b[0;34m.\u001b[0m\u001b[0mreduce\u001b[0m\u001b[0;34m(\u001b[0m\u001b[0moperator\u001b[0m\u001b[0;34m.\u001b[0m\u001b[0mmul\u001b[0m\u001b[0;34m,\u001b[0m \u001b[0msize\u001b[0m\u001b[0;34m,\u001b[0m \u001b[0;36m1\u001b[0m\u001b[0;34m)\u001b[0m\u001b[0;34m\u001b[0m\u001b[0;34m\u001b[0m\u001b[0m\n\u001b[1;32m     79\u001b[0m         \u001b[0;32mif\u001b[0m \u001b[0melement_size\u001b[0m \u001b[0;34m%\u001b[0m \u001b[0;36m2\u001b[0m \u001b[0;34m==\u001b[0m \u001b[0;36m0\u001b[0m\u001b[0;34m:\u001b[0m\u001b[0;34m\u001b[0m\u001b[0;34m\u001b[0m\u001b[0m\n\u001b[0;32m---> 80\u001b[0;31m             \u001b[0mout\u001b[0m \u001b[0;34m=\u001b[0m \u001b[0mcupy\u001b[0m\u001b[0;34m.\u001b[0m\u001b[0mempty\u001b[0m\u001b[0;34m(\u001b[0m\u001b[0msize\u001b[0m\u001b[0;34m,\u001b[0m \u001b[0mdtype\u001b[0m\u001b[0;34m=\u001b[0m\u001b[0mdtype\u001b[0m\u001b[0;34m)\u001b[0m\u001b[0;34m\u001b[0m\u001b[0;34m\u001b[0m\u001b[0m\n\u001b[0m\u001b[1;32m     81\u001b[0m             \u001b[0mfunc\u001b[0m\u001b[0;34m(\u001b[0m\u001b[0mself\u001b[0m\u001b[0;34m.\u001b[0m\u001b[0m_generator\u001b[0m\u001b[0;34m,\u001b[0m \u001b[0mout\u001b[0m\u001b[0;34m.\u001b[0m\u001b[0mdata\u001b[0m\u001b[0;34m.\u001b[0m\u001b[0mptr\u001b[0m\u001b[0;34m,\u001b[0m \u001b[0mout\u001b[0m\u001b[0;34m.\u001b[0m\u001b[0msize\u001b[0m\u001b[0;34m,\u001b[0m \u001b[0;34m*\u001b[0m\u001b[0margs\u001b[0m\u001b[0;34m)\u001b[0m\u001b[0;34m\u001b[0m\u001b[0;34m\u001b[0m\u001b[0m\n\u001b[1;32m     82\u001b[0m             \u001b[0;32mreturn\u001b[0m \u001b[0mout\u001b[0m\u001b[0;34m\u001b[0m\u001b[0;34m\u001b[0m\u001b[0m\n",
      "\u001b[0;32m~/miniconda3/envs/price/lib/python3.8/site-packages/cupy/_creation/basic.py\u001b[0m in \u001b[0;36mempty\u001b[0;34m(shape, dtype, order)\u001b[0m\n\u001b[1;32m     20\u001b[0m \u001b[0;34m\u001b[0m\u001b[0m\n\u001b[1;32m     21\u001b[0m     \"\"\"\n\u001b[0;32m---> 22\u001b[0;31m     \u001b[0;32mreturn\u001b[0m \u001b[0mcupy\u001b[0m\u001b[0;34m.\u001b[0m\u001b[0mndarray\u001b[0m\u001b[0;34m(\u001b[0m\u001b[0mshape\u001b[0m\u001b[0;34m,\u001b[0m \u001b[0mdtype\u001b[0m\u001b[0;34m,\u001b[0m \u001b[0morder\u001b[0m\u001b[0;34m=\u001b[0m\u001b[0morder\u001b[0m\u001b[0;34m)\u001b[0m\u001b[0;34m\u001b[0m\u001b[0;34m\u001b[0m\u001b[0m\n\u001b[0m\u001b[1;32m     23\u001b[0m \u001b[0;34m\u001b[0m\u001b[0m\n\u001b[1;32m     24\u001b[0m \u001b[0;34m\u001b[0m\u001b[0m\n",
      "\u001b[0;32mcupy/core/core.pyx\u001b[0m in \u001b[0;36mcupy.core.core.ndarray.__init__\u001b[0;34m()\u001b[0m\n",
      "\u001b[0;32mcupy/cuda/memory.pyx\u001b[0m in \u001b[0;36mcupy.cuda.memory.alloc\u001b[0;34m()\u001b[0m\n",
      "\u001b[0;32mcupy/cuda/memory.pyx\u001b[0m in \u001b[0;36mcupy.cuda.memory._malloc\u001b[0;34m()\u001b[0m\n",
      "\u001b[0;32mcupy/cuda/memory.pyx\u001b[0m in \u001b[0;36mcupy.cuda.memory._malloc\u001b[0;34m()\u001b[0m\n",
      "\u001b[0;32mcupy/cuda/memory.pyx\u001b[0m in \u001b[0;36mcupy.cuda.memory.Memory.__init__\u001b[0;34m()\u001b[0m\n",
      "\u001b[0;32mcupy_backends/cuda/api/runtime.pyx\u001b[0m in \u001b[0;36mcupy_backends.cuda.api.runtime.malloc\u001b[0;34m()\u001b[0m\n",
      "\u001b[0;32mcupy_backends/cuda/api/runtime.pyx\u001b[0m in \u001b[0;36mcupy_backends.cuda.api.runtime.check_status\u001b[0;34m()\u001b[0m\n",
      "\u001b[0;31mCUDARuntimeError\u001b[0m: cudaErrorMemoryAllocation: out of memory"
     ]
    }
   ],
   "source": [
    "    taskgraph = TaskGraph.load_taskgraph('./option_simulation.gq.yaml')\n",
    "    iterator = taskgraph.run(replace={\"parameters\": {\n",
    "        \"conf\": {\n",
    "            \"seed\": 12\n",
    "        }\n",
    "    },\n",
    "    \"sim\": {\n",
    "        \"conf\":{\n",
    "           \"N_PATHS\": 1024000,\n",
    "           \"Y_STEPS\": 252\n",
    "        }\n",
    "    }})[0]\n",
    "    print(next(iterator))\n",
    "    iterator = taskgraph.run(replace={\"parameters\": {\n",
    "        \"conf\": {\n",
    "            \"seed\": 12\n",
    "        }\n",
    "    },\n",
    "    \"sim\":{\n",
    "        \"conf\":{\n",
    "           \"N_PATHS\": 10240000,\n",
    "           \"Y_STEPS\": 252\n",
    "        }\n",
    "    }})[0]\n",
    "    print(next(iterator))"
   ]
  },
  {
   "cell_type": "code",
   "execution_count": 32,
   "metadata": {},
   "outputs": [
    {
     "name": "stdout",
     "output_type": "stream",
     "text": [
      "tensor([2.1169e+01, 1.4763e+00, 3.5437e+01, 1.8875e+02, 7.2569e-02, 1.7584e-01,\n",
      "        1.9153e-01], device='cuda:0')\n",
      "tensor([ 123.4491,  -23.6133,   -0.7537,    0.7955,  113.5782,   -0.3578,\n",
      "        -182.2439], device='cuda:0')\n"
     ]
    }
   ],
   "source": [
    "import torch\n",
    "from torch.utils.dlpack import from_dlpack\n",
    "X, Y = next(sim_iter)\n",
    "X_t, Y_t = (from_dlpack(X[0].toDlpack()), from_dlpack(Y[0].toDlpack()))\n",
    "print(X_t)\n",
    "print(Y_t)"
   ]
  },
  {
   "cell_type": "markdown",
   "metadata": {},
   "source": [
    "Now we are ready to move from HPC to Deep Learning world. We create a gQuant node that takes an iterator of simulation results and convert it into NeMo DataLayer. We use the basic feed foward neural network to approximate the option prices. But we choose to use `Elu` activation function as we need high order differenations. While the popular `ReLu` activation funciton only have non-zero first order differentiation. \n",
    "\n",
    "Pytorch provides `grad` method to compute the gradient of the inputs. For a batch of input data points, we would like to calcuate all the input gradients in one step. The trick is to sum the batch of outputs together. Here is an example to compute the gradient of a batch of inputs for the function $f(x, y) = (xy)^2$. It's gradient is $$\\nabla f(x,y) = (2 x^2 y, 2 y^2 x)$$"
   ]
  },
  {
   "cell_type": "code",
   "execution_count": 13,
   "metadata": {},
   "outputs": [
    {
     "name": "stdout",
     "output_type": "stream",
     "text": [
      "(tensor([[ 24.,  36.],\n",
      "        [200., 160.]], grad_fn=<DivBackward0>),)\n"
     ]
    }
   ],
   "source": [
    "import torch\n",
    "from torch.autograd import grad\n",
    "'''\n",
    "z = (xy)^2\n",
    "x = 3, y =2\n",
    "first order deriv [24 36]\n",
    "x = 4, y =5\n",
    "first order deriv [200, 160]\n",
    "'''\n",
    "# create a batch of two inputs\n",
    "inputs = torch.tensor([[3.0,2.0], [4.0, 5.0]], requires_grad=True)\n",
    "# sum the outputs together\n",
    "z = (inputs.prod(axis=1)**2).sum()\n",
    "first_order_grad = grad(z, inputs, create_graph=True)\n",
    "print(first_order_grad)"
   ]
  },
  {
   "cell_type": "markdown",
   "metadata": {},
   "source": [
    "In the feed-forward network, we use this trick to compute the gradients for all the input data points. The loss function will be composed of two terms. One is the regression on the option price prediction, and the second one is the regularization term to make sure the gradients match.\n",
    "\n",
    "load the gquant task graph to train it."
   ]
  },
  {
   "cell_type": "code",
   "execution_count": 17,
   "metadata": {},
   "outputs": [
    {
     "data": {
      "application/vnd.jupyter.widget-view+json": {
       "model_id": "9ecf870404a6460a8e7cd6e32f5c173e",
       "version_major": 2,
       "version_minor": 0
      },
      "text/plain": [
       "GQuantWidget(sub=HBox(), value=[OrderedDict([('id', 'parameters'), ('type', 'ParaNode'), ('conf', {'seed': Non…"
      ]
     },
     "metadata": {},
     "output_type": "display_data"
    }
   ],
   "source": [
    "import numba\n",
    "from numba import cuda\n",
    "import nemo\n",
    "from gquant.dataframe_flow import TaskGraph\n",
    "\n",
    "nemo.core.NeuralModuleFactory()\n",
    "taskgraph = TaskGraph.load_taskgraph('../taskgraphs/option_price_example/option_price_nemo.gq.yaml')\n",
    "taskgraph.draw()"
   ]
  },
  {
   "cell_type": "markdown",
   "metadata": {},
   "source": [
    "Click on the `run` button to see the training in effect. Click on the `show log` button to see the full logs about the training loss descreasing.\n",
    "\n",
    "Since we have all the gQuant nodes handy for the simulation and deep learning, we can re-use them to construct the evaluation network. The evaluation network will reuse the same neural network in the training to evaluate the prediction in a seperate dataset. In the train node, we can monitor the evaluation performance to determine whether the model has good generalization or not. The following is the full network:"
   ]
  },
  {
   "cell_type": "code",
   "execution_count": 19,
   "metadata": {},
   "outputs": [
    {
     "data": {
      "application/vnd.jupyter.widget-view+json": {
       "model_id": "554c29a5500f430c8a07f60b4f14de44",
       "version_major": 2,
       "version_minor": 0
      },
      "text/plain": [
       "GQuantWidget(sub=HBox(), value=[OrderedDict([('id', 'parameters'), ('type', 'ParaNode'), ('conf', {'seed': Non…"
      ]
     },
     "metadata": {},
     "output_type": "display_data"
    }
   ],
   "source": [
    "taskgraph = TaskGraph.load_taskgraph('../taskgraphs/option_price_example/full_training_model.gq.yaml')\n",
    "taskgraph.draw()"
   ]
  },
  {
   "cell_type": "markdown",
   "metadata": {},
   "source": [
    "Once the model is trained, we can start to run the inference on the trained model. "
   ]
  },
  {
   "cell_type": "code",
   "execution_count": 21,
   "metadata": {},
   "outputs": [
    {
     "data": {
      "application/vnd.jupyter.widget-view+json": {
       "model_id": "7d003af5e8514a4fa2bfdf64aac52b40",
       "version_major": 2,
       "version_minor": 0
      },
      "text/plain": [
       "GQuantWidget(sub=HBox(), value=[OrderedDict([('id', 'parameters'), ('type', 'ParaNode'), ('conf', {'seed': Non…"
      ]
     },
     "metadata": {},
     "output_type": "display_data"
    }
   ],
   "source": [
    "taskgraph = TaskGraph.load_taskgraph('../taskgraphs/option_price_example/option_price_inference.gq.yaml')\n",
    "taskgraph.draw()"
   ]
  },
  {
   "cell_type": "code",
   "execution_count": null,
   "metadata": {},
   "outputs": [],
   "source": []
  }
 ],
 "metadata": {
  "kernelspec": {
   "display_name": "Python 3",
   "language": "python",
   "name": "python3"
  },
  "language_info": {
   "codemirror_mode": {
    "name": "ipython",
    "version": 3
   },
   "file_extension": ".py",
   "mimetype": "text/x-python",
   "name": "python",
   "nbconvert_exporter": "python",
   "pygments_lexer": "ipython3",
   "version": "3.8.2"
  }
 },
 "nbformat": 4,
 "nbformat_minor": 4
}
